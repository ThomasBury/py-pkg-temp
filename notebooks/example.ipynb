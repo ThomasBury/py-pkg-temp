{
 "cells": [
  {
   "cell_type": "markdown",
   "id": "65f25cef-b70e-496b-921d-a9d6abdadeb0",
   "metadata": {},
   "source": [
    "<h1 align=\"center\">☁️ - Basic package 👨‍💻🔬</h1>\n",
    "\n",
    "<h2 align=\"center\">How to package code and re-use it</h2>\n",
    "<p style=\"text-align:center\">\n",
    "   Human Bender<br>\n",
    "</p>\n",
    "\n",
    "A basic package for illustrating how to package and distribute code. But also providing some classes and inheritance.\n"
   ]
  },
  {
   "cell_type": "code",
   "execution_count": 12,
   "id": "959003a7-522f-416a-95d6-b8ec5fadb731",
   "metadata": {},
   "outputs": [],
   "source": [
    "import numpy as np \n",
    "import pandas as pd\n",
    "import yaml\n",
    "from pprint import pprint\n",
    "\n",
    "# Custom package\n",
    "from pkgtemp.sub_pkg1.modA import Convoy, Motorcycle, Vehicle\n",
    "from pkgtemp.sub_pkg1.modB import hello_world\n",
    "from pkgtemp.sub_pkg2.modC import Complex\n",
    "from pkgtemp.sub_pkg2.modD import Fibonacci "
   ]
  },
  {
   "cell_type": "code",
   "execution_count": 13,
   "id": "a9d99fb6",
   "metadata": {},
   "outputs": [
    {
     "name": "stdout",
     "output_type": "stream",
     "text": [
      "pkgtemp version 0.0.1\n"
     ]
    }
   ],
   "source": [
    "import pkgtemp\n",
    "print(f'pkgtemp version {pkgtemp.__version__}')"
   ]
  },
  {
   "cell_type": "markdown",
   "id": "0dbb41be-45bf-4680-a492-cc805f6e404f",
   "metadata": {},
   "source": [
    "# Re-using your code\n",
    "## Module modA - example of classes and inheritance"
   ]
  },
  {
   "cell_type": "code",
   "execution_count": 14,
   "id": "0228e0d4-a126-4181-8b05-078c526b94fd",
   "metadata": {},
   "outputs": [
    {
     "name": "stdout",
     "output_type": "stream",
     "text": [
      "The vehicle is full.\n",
      "Pierre\n",
      "Dimitri\n"
     ]
    }
   ],
   "source": [
    "moto1 = Motorcycle(passengers=['Pierre','Dimitri'], brand='Yamaha')\n",
    "moto1.add('Yohann')\n",
    "moto1.print_passengers()"
   ]
  },
  {
   "cell_type": "code",
   "execution_count": 15,
   "id": "d8f77a1a-6e41-4b9d-afe8-bc7530d0d100",
   "metadata": {},
   "outputs": [],
   "source": [
    "convoy1 = Convoy()\n",
    "convoy1.vehicle_list[0].add('Albert')\n",
    "convoy1.add_vehicle(Motorcycle(passengers=['Raphael'], brand='Honda'))"
   ]
  },
  {
   "cell_type": "code",
   "execution_count": 16,
   "id": "2def9f2a-bbbc-4eb0-b827-d0f255d4da57",
   "metadata": {},
   "outputs": [
    {
     "name": "stdout",
     "output_type": "stream",
     "text": [
      "Albert\n",
      "Albert\n",
      "Raphael\n"
     ]
    }
   ],
   "source": [
    "for v in convoy1.vehicle_list:\n",
    "    v.print_passengers() "
   ]
  },
  {
   "cell_type": "markdown",
   "id": "13f95043-ba08-4d37-ae13-1e414243a46c",
   "metadata": {},
   "source": [
    "## Special methods - Comparison"
   ]
  },
  {
   "cell_type": "code",
   "execution_count": 17,
   "id": "af304d2a-be1f-4736-8410-f1a0595bffab",
   "metadata": {},
   "outputs": [
    {
     "name": "stdout",
     "output_type": "stream",
     "text": [
      "6 - 3i\n"
     ]
    }
   ],
   "source": [
    "Complex(6, -3).__str__()"
   ]
  },
  {
   "cell_type": "code",
   "execution_count": 18,
   "id": "4abeceac-c343-4ba9-9540-b36368baf426",
   "metadata": {},
   "outputs": [
    {
     "data": {
      "text/plain": [
       "True"
      ]
     },
     "execution_count": 18,
     "metadata": {},
     "output_type": "execute_result"
    }
   ],
   "source": [
    "# is the module of C1 smaller or larger than the module of C2\n",
    "c1 = Complex(3, 4)\n",
    "c2 = Complex(2, -5)\n",
    "c1.__lt__(c2)"
   ]
  },
  {
   "cell_type": "markdown",
   "id": "e4c3b4f8-8435-4950-a6ff-8849bbffa17c",
   "metadata": {},
   "source": [
    "## Special methods - make a class instance callable"
   ]
  },
  {
   "cell_type": "code",
   "execution_count": 19,
   "id": "53000da5-8e21-4867-8bcf-74b40fe5df33",
   "metadata": {},
   "outputs": [],
   "source": [
    "# instanciate the class, which is a callable object thanks to the __call__ method\n",
    "fibonacci_of = Fibonacci()"
   ]
  },
  {
   "cell_type": "code",
   "execution_count": 20,
   "id": "32989994-bfd6-43dd-ada0-48c0fe7fc0dc",
   "metadata": {},
   "outputs": [
    {
     "data": {
      "text/plain": [
       "5"
      ]
     },
     "execution_count": 20,
     "metadata": {},
     "output_type": "execute_result"
    }
   ],
   "source": [
    "fibonacci_of(5)"
   ]
  },
  {
   "cell_type": "code",
   "execution_count": 21,
   "id": "de919ce3-1140-4d11-a987-3bb8c88582ca",
   "metadata": {},
   "outputs": [
    {
     "data": {
      "text/plain": [
       "144"
      ]
     },
     "execution_count": 21,
     "metadata": {},
     "output_type": "execute_result"
    }
   ],
   "source": [
    "fibonacci_of(12)"
   ]
  },
  {
   "cell_type": "markdown",
   "id": "86e61706-c1ae-448e-9733-7137bc0d1c57",
   "metadata": {
    "tags": []
   },
   "source": [
    "# Load the config file for the paths\n",
    "To avoid to hardcode the paths in a versioned file, let's create a `paths.yml` which will **not** be versioned. So that the paths are not overwritten when we pull or merge from the GitHub repo. The `paths.yml` should have a structure like:\n",
    "\n",
    "```yml\n",
    "# data\n",
    "data:\n",
    "  test: \"C:/Users/[USER_NAME]/Documents/Projects/[PROJECT_NAME]/data/test_images\"\n",
    "  train: \"C:/Users/[USER_NAME]/Documents/Projects/[PROJECT_NAME]/data/train_images\"\n",
    "  docs: \"C:/Users/[USER_NAME]/Documents/Projects/[PROJECT_NAME]/data/\"\n",
    "\n",
    "# Path to store all notebooks, ideally not versioned\n",
    "notebooks: \"C:/Users/[USER_NAME]/Documents/Projects/[PROJECT_NAME]/notebooks/\"\n",
    "\n",
    "# Path to store all outputs (correlations, jsons, excel, etc)\n",
    "output: \"C:/Users/[USER_NAME]/Documents/Projects/[PROJECT_NAME]/output/\"\n",
    "\n",
    "# Path to store all python scripts, for versioning\n",
    "scripts: \"C:/Users/[USER_NAME]/Documents/Projects/[PROJECT_NAME]/scripts/\"\n",
    "\n",
    "# Path to studies\n",
    "studies: \"C:/Users/[USER_NAME]/Documents/Projects/[PROJECT_NAME]/studies/\"\n",
    "```\n",
    "\n",
    "In the following cell, a user input field is created. Enter the path, without quotes."
   ]
  },
  {
   "cell_type": "code",
   "execution_count": null,
   "id": "9301e2e4-c620-4b57-a6d0-17801f543a7a",
   "metadata": {},
   "outputs": [],
   "source": [
    "# Where is my yaml ? \"C:/Users/[USER_NAME]/Documents/Projects/[PROJECT_NAME]/paths.yml\"\n",
    "\n",
    "paths_yml = input(\"where is the paths.yml config file?\")\n",
    "with open(paths_yml, \"r\") as ymlfile:\n",
    "    path_dic = yaml.load(ymlfile, Loader=yaml.FullLoader)\n",
    "\n",
    "# pprint(path_dic)"
   ]
  },
  {
   "cell_type": "code",
   "execution_count": null,
   "id": "18e21431-1a92-48c8-8671-515ce89c5d92",
   "metadata": {},
   "outputs": [],
   "source": [
    "train_csv_path = path_dic['data']['docs'] + 'train.csv'\n",
    "train_data = path_dic['data']['train'] \n",
    "test_data = path_dic['data']['test'] "
   ]
  }
 ],
 "metadata": {
  "interpreter": {
   "hash": "b5dfd23e6aa09b6eccf29713af2fc3633d4fa1262fdea487bc39283a6ee1b326"
  },
  "kernelspec": {
   "display_name": "Python 3 (ipykernel)",
   "language": "python",
   "name": "python3"
  },
  "language_info": {
   "codemirror_mode": {
    "name": "ipython",
    "version": 3
   },
   "file_extension": ".py",
   "mimetype": "text/x-python",
   "name": "python",
   "nbconvert_exporter": "python",
   "pygments_lexer": "ipython3",
   "version": "3.9.7"
  }
 },
 "nbformat": 4,
 "nbformat_minor": 5
}
